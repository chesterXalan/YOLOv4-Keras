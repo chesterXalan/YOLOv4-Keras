{
 "cells": [
  {
   "cell_type": "code",
   "execution_count": 1,
   "metadata": {},
   "outputs": [],
   "source": [
    "import numpy as np\n",
    "from operator import itemgetter\n",
    "\n",
    "from tensorflow.keras.layers import Input\n",
    "from yolov4.model import yolov4_body"
   ]
  },
  {
   "cell_type": "code",
   "execution_count": 2,
   "metadata": {},
   "outputs": [],
   "source": [
    "def get_class(classes_path):\n",
    "    with open(classes_path, encoding='utf-8') as f:\n",
    "        classes = f.readlines()\n",
    "    classes = [c.strip() for c in classes]\n",
    "    return classes\n",
    "\n",
    "def get_anchors(anchors_path):\n",
    "    with open(anchors_path) as f:\n",
    "        anchors = f.readline()\n",
    "    anchors = [float(x) for x in anchors.split(',')]\n",
    "    return np.array(anchors).reshape(-1, 2)\n",
    "\n",
    "def convert(input_shape, dn_weights_path, kr_weights_path, anchors_path, classes_path):\n",
    "    anchors = get_anchors(anchors_path)\n",
    "    classes = get_class(classes_path)\n",
    "    num_anchors = len(anchors)\n",
    "    num_classes = len(classes)\n",
    "\n",
    "    # Load model, or construct model and load weights.\n",
    "    yolo4_model = yolov4_body(Input(shape=input_shape), num_anchors//3, num_classes)\n",
    "\n",
    "    # Read and convert darknet weight\n",
    "    print('Loading weights...')\n",
    "    weights_file = open(dn_weights_path, 'rb')\n",
    "    major, minor, revision = np.ndarray(shape=(3, ), dtype='int32', buffer=weights_file.read(12))\n",
    "    if (major*10+minor)>=2 and major<1000 and minor<1000:\n",
    "        seen = np.ndarray(shape=(1,), dtype='int64', buffer=weights_file.read(8))\n",
    "    else:\n",
    "        seen = np.ndarray(shape=(1,), dtype='int32', buffer=weights_file.read(4))\n",
    "    #print('Weights Header: ', major, minor, revision, seen)\n",
    "\n",
    "    convs_to_load = []\n",
    "    bns_to_load = []\n",
    "    for i in range(len(yolo4_model.layers)):\n",
    "        layer_name = yolo4_model.layers[i].name\n",
    "        if layer_name.startswith('conv2d_'):\n",
    "            convs_to_load.append((int(layer_name[7:]), i))\n",
    "        if layer_name.startswith('batch_normalization_'):\n",
    "            bns_to_load.append((int(layer_name[20:]), i))\n",
    "\n",
    "    convs_sorted = sorted(convs_to_load, key=itemgetter(0))\n",
    "    bns_sorted = sorted(bns_to_load, key=itemgetter(0))\n",
    "\n",
    "    bn_index = 0\n",
    "    for i in range(len(convs_sorted)):\n",
    "        #print('Converting ', i)\n",
    "        if i == 93 or i == 101 or i == 109:\n",
    "            #no bn, with bias\n",
    "            weights_shape = yolo4_model.layers[convs_sorted[i][1]].get_weights()[0].shape\n",
    "            bias_shape = yolo4_model.layers[convs_sorted[i][1]].get_weights()[0].shape[3]\n",
    "            filters = bias_shape\n",
    "            size = weights_shape[0]\n",
    "            darknet_w_shape = (filters, weights_shape[2], size, size)\n",
    "            weights_size = np.product(weights_shape)\n",
    "\n",
    "            conv_bias = np.ndarray(\n",
    "                shape=(filters, ),\n",
    "                dtype='float32',\n",
    "                buffer=weights_file.read(filters * 4))\n",
    "            conv_weights = np.ndarray(\n",
    "                shape=darknet_w_shape,\n",
    "                dtype='float32',\n",
    "                buffer=weights_file.read(weights_size * 4))\n",
    "            conv_weights = np.transpose(conv_weights, [2, 3, 1, 0])\n",
    "            yolo4_model.layers[convs_sorted[i][1]].set_weights([conv_weights, conv_bias])\n",
    "        else:\n",
    "            #with bn, no bias\n",
    "            weights_shape = yolo4_model.layers[convs_sorted[i][1]].get_weights()[0].shape\n",
    "            size = weights_shape[0]\n",
    "            bn_shape = yolo4_model.layers[bns_sorted[bn_index][1]].get_weights()[0].shape\n",
    "            filters = bn_shape[0]\n",
    "            darknet_w_shape = (filters, weights_shape[2], size, size)\n",
    "            weights_size = np.product(weights_shape)\n",
    "\n",
    "            conv_bias = np.ndarray(\n",
    "                shape=(filters, ),\n",
    "                dtype='float32',\n",
    "                buffer=weights_file.read(filters * 4))\n",
    "            bn_weights = np.ndarray(\n",
    "                shape=(3, filters),\n",
    "                dtype='float32',\n",
    "                buffer=weights_file.read(filters * 12))\n",
    "\n",
    "            bn_weight_list = [\n",
    "                bn_weights[0],  # scale gamma\n",
    "                conv_bias,      # shift beta\n",
    "                bn_weights[1],  # running mean\n",
    "                bn_weights[2]   # running var\n",
    "            ]\n",
    "            yolo4_model.layers[bns_sorted[bn_index][1]].set_weights(bn_weight_list)\n",
    "\n",
    "            conv_weights = np.ndarray(\n",
    "                shape=darknet_w_shape,\n",
    "                dtype='float32',\n",
    "                buffer=weights_file.read(weights_size * 4))\n",
    "            conv_weights = np.transpose(conv_weights, [2, 3, 1, 0])\n",
    "            yolo4_model.layers[convs_sorted[i][1]].set_weights([conv_weights])\n",
    "\n",
    "            bn_index += 1\n",
    "\n",
    "    weights_file.close()\n",
    "    yolo4_model.save_weights(kr_weights_path)\n",
    "    print('Weights saved!')"
   ]
  },
  {
   "cell_type": "code",
   "execution_count": 4,
   "metadata": {},
   "outputs": [
    {
     "name": "stdout",
     "output_type": "stream",
     "text": [
      "Loading weights...\n",
      "Weights saved!\n"
     ]
    }
   ],
   "source": [
    "input_shape = (608, 608, 3)\n",
    "dn_weights_path = 'model_data/weights/yolov4-default.weights'\n",
    "kr_weights_path = 'model_data/weights/yolov4-default_weights.h5'\n",
    "anchors_path = 'model_data/anchors/yolov4_anchors.txt'\n",
    "classes_path = 'model_data/classes/yolov4-default.names'\n",
    "\n",
    "yolo4_model = convert(input_shape, dn_weights_path, kr_weights_path, anchors_path, classes_path)"
   ]
  },
  {
   "cell_type": "code",
   "execution_count": 4,
   "metadata": {},
   "outputs": [
    {
     "name": "stdout",
     "output_type": "stream",
     "text": [
      "Loading weights...\n",
      "Weights saved!\n"
     ]
    }
   ],
   "source": [
    "input_shape = (608, 608, 3)\n",
    "dn_weights_path = 'model_data/weights/yolov4-plate_type.weights'\n",
    "kr_weights_path = 'model_data/weights/yolov4-plate_type_weights.h5'\n",
    "anchors_path = 'model_data/anchors/yolov4_anchors.txt'\n",
    "classes_path = 'model_data/classes/yolov4-plate_type.names'\n",
    "\n",
    "yolo4_model = convert(input_shape, dn_weights_path, kr_weights_path, anchors_path, classes_path)"
   ]
  },
  {
   "cell_type": "code",
   "execution_count": 5,
   "metadata": {},
   "outputs": [
    {
     "name": "stdout",
     "output_type": "stream",
     "text": [
      "Loading weights...\n",
      "Weights saved!\n"
     ]
    }
   ],
   "source": [
    "input_shape = (320, 320, 3)\n",
    "dn_weights_path = 'model_data/weights/yolov4-plate_number.weights'\n",
    "kr_weights_path = 'model_data/weights/yolov4-plate_number_weights.h5'\n",
    "anchors_path = 'model_data/anchors/yolov4_anchors.txt'\n",
    "classes_path = 'model_data/classes/yolov4-plate_number.names'\n",
    "\n",
    "yolo4_model = convert(input_shape, dn_weights_path, kr_weights_path, anchors_path, classes_path)"
   ]
  },
  {
   "cell_type": "code",
   "execution_count": 4,
   "metadata": {},
   "outputs": [
    {
     "name": "stdout",
     "output_type": "stream",
     "text": [
      "Loading weights...\n",
      "Weights saved!\n"
     ]
    }
   ],
   "source": [
    "input_shape = (416, 416, 3)\n",
    "dn_weights_path = 'model_data/weights/yolov4-flower.weights'\n",
    "kr_weights_path = 'model_data/weights/yolov4-flower_weights.h5'\n",
    "anchors_path = 'model_data/anchors/yolov4_anchors.txt'\n",
    "classes_path = 'model_data/classes/yolov4-flower.names'\n",
    "\n",
    "yolo4_model = convert(input_shape, dn_weights_path, kr_weights_path, anchors_path, classes_path)"
   ]
  }
 ],
 "metadata": {
  "interpreter": {
   "hash": "1c7f24cc11f040a5450439addbf53847cc02767a77e59162e28b9055931e82da"
  },
  "kernelspec": {
   "display_name": "Python 3.8.12 ('tensorflow')",
   "language": "python",
   "name": "python3"
  },
  "language_info": {
   "codemirror_mode": {
    "name": "ipython",
    "version": 3
   },
   "file_extension": ".py",
   "mimetype": "text/x-python",
   "name": "python",
   "nbconvert_exporter": "python",
   "pygments_lexer": "ipython3",
   "version": "3.8.12"
  },
  "orig_nbformat": 4
 },
 "nbformat": 4,
 "nbformat_minor": 2
}
