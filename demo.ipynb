{
 "cells": [
  {
   "cell_type": "code",
   "execution_count": 1,
   "metadata": {},
   "outputs": [
    {
     "name": "stderr",
     "output_type": "stream",
     "text": [
      "Using TensorFlow backend.\n"
     ]
    }
   ],
   "source": [
    "import cv2\n",
    "import numpy as np\n",
    "\n",
    "from keras.layers import Input\n",
    "from yolov4.model import yolov4_body\n",
    "from yolov4.decode import Decode"
   ]
  },
  {
   "cell_type": "code",
   "execution_count": 2,
   "metadata": {},
   "outputs": [],
   "source": [
    "def get_class(classes_path):\n",
    "    with open(classes_path, encoding='utf-8') as f:\n",
    "        class_names = f.readlines()\n",
    "    class_names = [c.strip() for c in class_names]\n",
    "    return class_names\n",
    "\n",
    "def get_anchors(anchors_path):\n",
    "    with open(anchors_path) as f:\n",
    "        anchors = f.readline()\n",
    "    anchors = [float(x) for x in anchors.split(',')]\n",
    "    return np.array(anchors).reshape(-1, 2)"
   ]
  },
  {
   "cell_type": "code",
   "execution_count": 3,
   "metadata": {},
   "outputs": [],
   "source": [
    "weights_path = 'model_data/weights/yolov4-plate_number_weights.h5'\n",
    "anchors_path = 'model_data/anchors/yolov4_anchors.txt'\n",
    "classes_path = 'model_data/classes/yolov4-plate_number.names'\n",
    "\n",
    "class_names = get_class(classes_path)\n",
    "anchors = get_anchors(anchors_path)\n",
    "num_anchors = len(anchors)\n",
    "num_classes = len(class_names)\n",
    "\n",
    "input_size = (416, 416)\n",
    "\n",
    "# 分数阈值和nms_iou阈值\n",
    "conf_thresh = 0.6\n",
    "nms_thresh = 0.45\n",
    "\n",
    "yolov4_model = yolov4_body(Input(shape=input_size+(3,)), num_anchors//3, num_classes)\n",
    "yolov4_model.load_weights(weights_path)\n",
    "\n",
    "_decode = Decode(conf_thresh, nms_thresh, input_size, yolov4_model, class_names)"
   ]
  },
  {
   "cell_type": "code",
   "execution_count": 9,
   "metadata": {},
   "outputs": [],
   "source": [
    "image = cv2.imread('image/1.jpg')\n",
    "\n",
    "image, boxes, scores, classes = _decode.detect_image(image, True)\n",
    "cv2.imshow('image', image)\n",
    "cv2.waitKey(0)\n",
    "cv2.destroyAllWindows()"
   ]
  }
 ],
 "metadata": {
  "interpreter": {
   "hash": "1c7f24cc11f040a5450439addbf53847cc02767a77e59162e28b9055931e82da"
  },
  "kernelspec": {
   "display_name": "Python 3.8.12 ('tensorflow')",
   "language": "python",
   "name": "python3"
  },
  "language_info": {
   "codemirror_mode": {
    "name": "ipython",
    "version": 3
   },
   "file_extension": ".py",
   "mimetype": "text/x-python",
   "name": "python",
   "nbconvert_exporter": "python",
   "pygments_lexer": "ipython3",
   "version": "3.8.12"
  },
  "orig_nbformat": 4
 },
 "nbformat": 4,
 "nbformat_minor": 2
}
